{
 "cells": [
  {
   "cell_type": "markdown",
   "id": "922aecf5",
   "metadata": {},
   "source": [
    "<b>Autonecoder tutorial:</b>\n",
    "https://uvadlc-notebooks.readthedocs.io/en/latest/tutorial_notebooks/tutorial9/AE_CIFAR10.html\n",
    "</br>\n",
    "<b>Deep Clustering with Convolutional Autoencoders paper:</b>\n",
    "https://xifengguo.github.io/papers/ICONIP17-DCEC.pdf"
   ]
  },
  {
   "cell_type": "code",
   "execution_count": 122,
   "id": "cccfd1f0",
   "metadata": {},
   "outputs": [
    {
     "name": "stderr",
     "output_type": "stream",
     "text": [
      "Seed set to 42\n"
     ]
    },
    {
     "name": "stdout",
     "output_type": "stream",
     "text": [
      "Device: cuda:0\n"
     ]
    }
   ],
   "source": [
    "import os\n",
    "import numpy as np\n",
    "import pandas as pd\n",
    "from PIL import Image\n",
    "\n",
    "import matplotlib.pyplot as plt\n",
    "import matplotlib\n",
    "%matplotlib inline\n",
    "\n",
    "from tqdm.notebook import tqdm\n",
    "\n",
    "import torch\n",
    "import torch.nn as nn\n",
    "import torch.nn.functional as F\n",
    "import torch.utils.data as data\n",
    "import torch.optim as optim\n",
    "from torch.utils.data import Dataset\n",
    "\n",
    "import torchvision\n",
    "from torchvision import transforms\n",
    "\n",
    "import pytorch_lightning as pl\n",
    "from pytorch_lightning.callbacks import LearningRateMonitor, ModelCheckpoint\n",
    "\n",
    "# Setting the seed\n",
    "pl.seed_everything(42)\n",
    "\n",
    "# Ensure that all operations are deterministic on GPU (if used) for reproducibility\n",
    "torch.backends.cudnn.deterministic = True\n",
    "torch.backends.cudnn.benchmark = False\n",
    "\n",
    "device = torch.device(\"cuda:0\") if torch.cuda.is_available() else torch.device(\"cpu\")\n",
    "print(\"Device:\", device)"
   ]
  },
  {
   "cell_type": "markdown",
   "id": "6f039b95",
   "metadata": {},
   "source": [
    "## Load data"
   ]
  },
  {
   "cell_type": "code",
   "execution_count": 144,
   "id": "769c0110",
   "metadata": {},
   "outputs": [],
   "source": [
    "def load_numpy_array(path):\n",
    "    return np.load(path)\n",
    "\n",
    "# TODO: not resize here, save file with right width and height\n",
    "def load_img(path):\n",
    "    image = Image.open(path)\n",
    "    image = image.resize((32, 32))\n",
    "    return np.array(image)\n",
    "\n",
    "\n",
    "class FeaturesDataset(Dataset):\n",
    "    def __init__(self, paths, transform=None):\n",
    "        self.paths = paths\n",
    "        self.transform = transform\n",
    "        \n",
    "    def __len__(self):\n",
    "        return len(self.paths)\n",
    "    \n",
    "    def __getitem__(self, idx):\n",
    "        path = self.paths[idx]\n",
    "        feature = load_img(path)\n",
    "        if self.transform:\n",
    "            feature = self.transform(feature)\n",
    "        return feature"
   ]
  },
  {
   "cell_type": "markdown",
   "id": "66ca6879",
   "metadata": {},
   "source": [
    "### Path to images"
   ]
  },
  {
   "cell_type": "code",
   "execution_count": 145,
   "id": "0c2c69f4",
   "metadata": {},
   "outputs": [],
   "source": [
    "project_dir = os.path.relpath(os.path.join(os.getcwd(), os.pardir))\n",
    "features_dir = os.path.join(project_dir, \"features\")\n",
    "\n",
    "#TODO: argument for dataset folder name\n",
    "dataset_dir = os.path.join(features_dir, \"music_audio_benchmark\")\n",
    "\n",
    "csv_file_name = \"features.csv\"\n",
    "csv_file_path = os.path.join(dataset_dir, csv_file_name)\n",
    "\n",
    "df = pd.read_csv(csv_file_path)\n",
    "path_columns = [\n",
    "    'name', 'path_spectogram_arr', 'path_mel_spectogram_arr', 'path_chromagram_arr', 'path_mfccs_arr', \n",
    "    'path_spectogram_img',  'path_mel_spectogram_img', 'path_chromagram_img', 'label'\n",
    "]\n",
    "\n",
    "df_paths = df[path_columns].copy()\n",
    "feature = 'path_spectogram_img'\n",
    "features_paths = df_paths[feature].values"
   ]
  },
  {
   "cell_type": "markdown",
   "id": "20360d57",
   "metadata": {},
   "source": [
    "### Train and validation datasets"
   ]
  },
  {
   "cell_type": "code",
   "execution_count": 146,
   "id": "5e442581",
   "metadata": {},
   "outputs": [],
   "source": [
    "transform = transforms.Compose([\n",
    "    transforms.ToTensor(),\n",
    "    transforms.Normalize((0.5, ), (0.5, ))\n",
    "])\n",
    "transform2 = transforms.Compose([transforms.ToTensor()])\n",
    "\n",
    "feature_dataset = FeaturesDataset(features_paths, transform=transform)\n",
    "\n",
    "train_length = int(0.8 * len(feature_dataset))\n",
    "val_length = len(feature_dataset) - train_length\n",
    "train_set, val_set = torch.utils.data.random_split(feature_dataset, [train_length, val_length])\n",
    "\n",
    "train_loader = data.DataLoader(train_set, batch_size=64, shuffle=True, drop_last=True, pin_memory=True, num_workers=4)\n",
    "val_loader = data.DataLoader(val_set, batch_size=64, shuffle=True, drop_last=True, num_workers=4)"
   ]
  },
  {
   "cell_type": "markdown",
   "id": "4966cf09",
   "metadata": {},
   "source": [
    "### Validate if images are correctly loaded"
   ]
  },
  {
   "cell_type": "code",
   "execution_count": 147,
   "id": "91fbc380",
   "metadata": {},
   "outputs": [],
   "source": [
    "def compare_imgs(img1, img2, title=\"\"):\n",
    "    loss = F.mse_loss(img1, img2, reduction=\"sum\")\n",
    "    \n",
    "    grid = torchvision.utils.make_grid(torch.stack([img1, img2], dim=0), nrow=2, normalize=True, value_range=(-1, 1))\n",
    "    grid = grid.permute(1, 2, 0)\n",
    "    \n",
    "    plt.figure(figsize=(4, 2))\n",
    "    plt.title(f\"{title}, Loss: {loss.item():4.2f}\")\n",
    "    plt.imshow(grid)\n",
    "    plt.axis('off')\n",
    "    plt.show()"
   ]
  },
  {
   "cell_type": "code",
   "execution_count": 148,
   "id": "2e572d8d",
   "metadata": {},
   "outputs": [
    {
     "data": {
      "image/png": "[encoded data removed]",
      "text/plain": [
       "<Figure size 400x200 with 1 Axes>"
      ]
     },
     "metadata": {},
     "output_type": "display_data"
    },
    {
     "data": {
      "image/png": "[encoded data removed]",
      "text/plain": [
       "<Figure size 400x200 with 1 Axes>"
      ]
     },
     "metadata": {},
     "output_type": "display_data"
    },
    {
     "data": {
      "image/png": "[encoded data removed]",
      "text/plain": [
       "<Figure size 400x200 with 1 Axes>"
      ]
     },
     "metadata": {},
     "output_type": "display_data"
    },
    {
     "data": {
      "image/png": "[encoded data removed]",
      "text/plain": [
       "<Figure size 400x200 with 1 Axes>"
      ]
     },
     "metadata": {},
     "output_type": "display_data"
    }
   ],
   "source": [
    "for i in range(2):\n",
    "    # Load example image\n",
    "    img = feature_dataset[i]\n",
    "    img_mean = img.mean(dim=[1,2], keepdims=True)\n",
    "\n",
    "    # Shift image by one pixel\n",
    "    SHIFT = 1\n",
    "    img_shifted = torch.roll(img, shifts=SHIFT, dims=1)\n",
    "    img_shifted = torch.roll(img_shifted, shifts=SHIFT, dims=2)\n",
    "    img_shifted[:,:1,:] = img_mean\n",
    "    img_shifted[:,:,:1] = img_mean\n",
    "    compare_imgs(img, img_shifted, \"Shifted -\")\n",
    "\n",
    "    # Set half of the image to zero\n",
    "    img_masked = img.clone()\n",
    "    img_masked[:,:img_masked.shape[1]//2,:] = img_mean\n",
    "    compare_imgs(img, img_masked, \"Masked -\")"
   ]
  },
  {
   "cell_type": "markdown",
   "id": "e133f54c",
   "metadata": {},
   "source": [
    "## Autoencoder"
   ]
  },
  {
   "cell_type": "code",
   "execution_count": 5,
   "id": "88296122",
   "metadata": {},
   "outputs": [],
   "source": [
    "# TODO:\n",
    "# 1. try other activation_fns\n",
    "# 2. change comments to proper sizes\n",
    "# 3. change values to proper sizes\n",
    "\n",
    "class Encoder(nn.Module):\n",
    "    \"\"\"\n",
    "    Inputs: \n",
    "        - num_input_channels : Number of input channels of the image.\n",
    "        - base_channel_size : Number of channels we use in the first convolutional layers. Deeper layers might use a duplicate of it.\n",
    "        - latent_dim : Dimensionality of latent representation z\n",
    "        - activation_fn : Activation function used throughout the encoder network\n",
    "    \"\"\"\n",
    "    def __init__(\n",
    "        self,\n",
    "        num_input_channels: int,\n",
    "        base_channel_size: int,\n",
    "        latent_dim: int,\n",
    "        activation_fn: object = nn.GELU\n",
    "    ): \n",
    "\n",
    "        super().__init__()\n",
    "        self.net = nn.Sequential(\n",
    "            nn.Conv2d(num_input_channels, base_channel_size, kernel_size=3, padding=1, stride=2), # 32x32 -> 16x16\n",
    "            activation_fn(),\n",
    "            nn.Conv2d(base_channel_size, base_channel_size, kernel_size=3, padding=1),\n",
    "            activation_fn(),\n",
    "            nn.Conv2d(base_channel_size, 2 * base_channel_size, kernel_size=3, padding=1, stride=2), # 16x16 -> 8x8\n",
    "            activation_fn(),\n",
    "            nn.Conv2d(2 * base_channel_size, 2 * base_channel_size, kernel_size=3, padding=1),\n",
    "            activation_fn(),\n",
    "            nn.Conv2d(2 * base_channel_size, 2 * base_channel_size, kernel_size=3, padding=1, stride=2), # 8x8 -> 4x4\n",
    "            activation_fn(),\n",
    "            nn.Flatten(), # flatten to single feature vector\n",
    "            nn.Linear(2 * base_channel_size * 4 * 4, latent_dim)\n",
    "        )\n",
    "    \n",
    "    def forward(self, x):\n",
    "        return self.net(x)"
   ]
  },
  {
   "cell_type": "code",
   "execution_count": 7,
   "id": "0d90a026",
   "metadata": {},
   "outputs": [],
   "source": [
    "# TODO:\n",
    "# 1. try other activation_fns\n",
    "# 2. change comments to proper sizes\n",
    "# 3. change values to proper sizes\n",
    "class Decoder(nn.Module):\n",
    "    \"\"\"\n",
    "    Inputs: \n",
    "        - num_input_channels : Number of input channels of the image.\n",
    "        - base_channel_size : Number of channels we use in the first convolutional layers. Deeper layers might use a duplicate of it.\n",
    "        - latent_dim : Dimensionality of latent representation z\n",
    "        - activation_fn : Activation function used throughout the encoder network\n",
    "    \"\"\"\n",
    "    def __init__(\n",
    "        self,\n",
    "        num_input_channels: int,\n",
    "        base_channel_size: int,\n",
    "        latent_dim: int,\n",
    "        activation_fn: object = nn.GELU\n",
    "    ): \n",
    "\n",
    "        super().__init__()\n",
    "        self.linear = nn.Sequential(\n",
    "            nn.Linear(latent_dim, 2 * base_channel_size * 4 * 4),\n",
    "            activation_fn()\n",
    "        )\n",
    "        self.net = nn.Sequential(\n",
    "            nn.ConvTranspose2d(2 * base_channel_size, 2 * base_channel_size, kernel_size=3, output_padding=1, padding=1, stride=2), # 4x4 -> 8x8\n",
    "            activation_fn(),\n",
    "            nn.Conv2d(2 * base_channel_size, 2 * base_channel_size, kernel_size=3, padding=1),\n",
    "            activation_fn(),\n",
    "            nn.ConvTranspose2d(base_channel_size, 2 * base_channel_size, kernel_size=3, output_padding=1, padding=1, stride=2), # 8x8 -> 16x16\n",
    "            activation_fn(),\n",
    "            nn.Conv2d(base_channel_size, base_channel_size, kernel_size=3, padding=1),\n",
    "            nn.ConvTranspose2d(base_channel_size, num_input_channels, kernel_size=3, output_padding=1, padding=1, stride=2), # 16x16 -> 32x32\n",
    "            nn.Tanh() # TODO: scale images between -1 and 1\n",
    "        )\n",
    "    \n",
    "    def forward(self, x):\n",
    "        x = self.linear(x)\n",
    "        x = x.reshape(x.shape[0], -1, 4, 4) # reshape tensor (spatial dimensions set to 4x4)\n",
    "        x = self.net(x)\n",
    "        return x"
   ]
  },
  {
   "cell_type": "code",
   "execution_count": 16,
   "id": "76780878",
   "metadata": {},
   "outputs": [],
   "source": [
    "# TODO:\n",
    "# 1. change values to proper sizes\n",
    "# 2. try different loss functions\n",
    "\n",
    "class Autoencoder(pl.LightningModule):\n",
    "    \"\"\"\n",
    "    Inputs: \n",
    "        - base_channel_size : Number of channels we use in the first convolutional layers. Deeper layers might use a duplicate of it.\n",
    "        - latent_dim : Dimensionality of latent representation z\n",
    "        - encoder_class : Encoder\n",
    "        - decoder_class : Decoder\n",
    "        - num_input_channels : Number of input channels of the image.\n",
    "        - width : Image width.\n",
    "        - height : Image height.\n",
    "    \"\"\"\n",
    "    def __init__(\n",
    "        self,\n",
    "        base_channel_size: int,\n",
    "        latent_dim: int,\n",
    "        encoder_class: object = Encoder,\n",
    "        decoder_class: object = Decoder,\n",
    "        num_input_channels: int = 3,\n",
    "        width: int = 32,\n",
    "        height: int = 32\n",
    "    ):\n",
    "        super().__init__()\n",
    "        \n",
    "        # Save hyperparameters\n",
    "        self.save_hyperparameters()\n",
    "        \n",
    "        self.encoder = encoder_class(num_input_channels, base_channel_size, latent_dim)\n",
    "        self.decoder = decoder_class(num_input_channels, base_channel_size, latent_dim)\n",
    "        \n",
    "        # Example input array needed for visualizing the graph of network\n",
    "        self.example_input_array = torch.zeros(2, num_input_channels, width, height)\n",
    "        \n",
    "    \"\"\"\n",
    "    The forward function takes in an image and returns the reconstructed image\n",
    "    \"\"\"\n",
    "    def forward(self, x):\n",
    "        z = self.encoder(x)\n",
    "        x_hat = self.decoder(z)\n",
    "        return x_hat\n",
    "    \n",
    "    \"\"\"\n",
    "    Given a batch of images, this function returns the reconstruction loss (MSE in our case)\n",
    "    \"\"\"\n",
    "    def _get_recontruction_loss(self, batch):\n",
    "        x, _ = batch # Skip labels\n",
    "        x_hat = self.forward(x)\n",
    "        \n",
    "        loss = F.mse_loss(x, x_hat, reduction=\"none\")\n",
    "        loss = loss.sum(dim=[1, 2, 3]).mean(dim=[0])\n",
    "        return loss\n",
    "    \n",
    "    def configure_optimizers(self):\n",
    "        optimizer = optim.Adam(self.parameters, lr=1e-3)\n",
    "        \n",
    "        # The scheduler reduces the LR if the validation performance hasn't improved for the last N epochs\n",
    "        scheduler = optim.lr_scheduler.ReduceLROnPlateau(\n",
    "            optimizer,\n",
    "            mode=\"min\",\n",
    "            factor=0.2,\n",
    "            patience=20,\n",
    "            min_lr=5e-5\n",
    "        )\n",
    "        \n",
    "        return {\n",
    "            \"optimizer\": optimizer,\n",
    "            \"lr_schedule\": scheduler,\n",
    "            \"monitor\": \"val_loss\"\n",
    "        }\n",
    "    \n",
    "    def training_step(self, batch, batch_idx):\n",
    "        loss = self._get_recontruction_loss(batch)\n",
    "        self.log('train_loss', loss)\n",
    "        return loss\n",
    "    \n",
    "    def validation_step(self, batch, batch_idx):\n",
    "        loss = self._get_recontruction_loss(batch)\n",
    "        self.log('val_loss', loss)\n",
    "        \n",
    "    def test_step(self, batch, batch_idx):\n",
    "        loss = self._get_recontruction_loss(batch)\n",
    "        self.log('test_loss', loss)"
   ]
  },
  {
   "cell_type": "code",
   "execution_count": null,
   "id": "f036781a",
   "metadata": {},
   "outputs": [],
   "source": [
    "class GenerateCallback(pl.Callback):\n",
    "    def __init__(self, imgs, every_n_epochs=5):\n",
    "        super().__init_()\n",
    "        self.imgs = imgs # Images to reconstruct\n",
    "        self.every_n_epochs = every_n_epochs\n",
    "        \n",
    "    def on_train_epoch_end(self, trainer, pl_module):\n",
    "        if trainer.current_epoch % self.every_n_epochs == 0:\n",
    "            # Reconstruct images\n",
    "            imgs = self.imgs.to(pl_module.device)\n",
    "            with torch.no_grad():\n",
    "                pl_module.eval()\n",
    "                reconst_imgs = pl_module()\n",
    "                pl_module.train()\n",
    "            \n",
    "            images = torch.stack([imgs, reconst_imgs], dim=1).flatten(0, 1)\n",
    "            grid = torchvision.utils.make_grid(images, nrow=2, normalize=True, range=(-1, 1))\n",
    "            trainer.logger.experiment.add_image(\"Reconstructions\", grid, global_step=trainer.global_step)"
   ]
  }
 ],
 "metadata": {
  "kernelspec": {
   "display_name": "Python 3 (ipykernel)",
   "language": "python",
   "name": "python3"
  },
  "language_info": {
   "codemirror_mode": {
    "name": "ipython",
    "version": 3
   },
   "file_extension": ".py",
   "mimetype": "text/x-python",
   "name": "python",
   "nbconvert_exporter": "python",
   "pygments_lexer": "ipython3",
   "version": "3.11.5"
  }
 },
 "nbformat": 4,
 "nbformat_minor": 5
}
