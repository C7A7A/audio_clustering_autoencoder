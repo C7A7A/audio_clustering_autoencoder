{
 "cells": [
  {
   "cell_type": "markdown",
   "id": "301193df",
   "metadata": {},
   "source": [
    "## Save metadata to csv file"
   ]
  },
  {
   "cell_type": "code",
   "execution_count": 4,
   "id": "b80f6ec2",
   "metadata": {},
   "outputs": [],
   "source": [
    "import os\n",
    "import csv"
   ]
  },
  {
   "cell_type": "code",
   "execution_count": 5,
   "id": "2115363b",
   "metadata": {},
   "outputs": [],
   "source": [
    "DATASET_DIR_NAME = 'music_audio_benchmark'\n",
    "CSV_FILE_NAME = \"metadata.csv\""
   ]
  },
  {
   "cell_type": "code",
   "execution_count": 6,
   "id": "69b5005b",
   "metadata": {},
   "outputs": [
    {
     "name": "stdout",
     "output_type": "stream",
     "text": [
      "Inserting data from: alternative\n",
      "Inserting data from: blues\n",
      "Inserting data from: electronic\n",
      "Inserting data from: folkcountry\n",
      "Inserting data from: funksoulrnb\n",
      "Inserting data from: jazz\n",
      "Inserting data from: pop\n",
      "Inserting data from: raphiphop\n",
      "Inserting data from: rock\n",
      "CSV file metadata.csv created successfully!\n",
      "CSV file location: C:\\users\\user\\studia\\audio_clustering_autoencoder_versus_classic\\metadata\\music_audio_benchmark\\metadata.csv\n"
     ]
    }
   ],
   "source": [
    "#TODO: add label\n",
    "project_dir = os.path.abspath(os.path.join(os.getcwd(), os.pardir))\n",
    "datasets_dir = os.path.join(project_dir, \"datasets\")\n",
    "metadata_dir = os.path.join(project_dir, \"metadata\")\n",
    "\n",
    "dataset_dir = os.path.join(datasets_dir, DATASET_DIR_NAME)\n",
    "metadata_dataset_dir = os.path.join(metadata_dir, DATASET_DIR_NAME)\n",
    "\n",
    "try:\n",
    "    os.makedirs(os.path.dirname(dataset_dir), exist_ok=True)\n",
    "    os.makedirs(os.path.dirname(metadata_dataset_dir), exist_ok=True)\n",
    "except Exception as e:\n",
    "    print(\"Error creating directory:\", e)\n",
    "\n",
    "csv_file_path = os.path.join(metadata_dataset_dir, CSV_FILE_NAME)\n",
    "\n",
    "with open(csv_file_path, mode='w', newline='') as csv_file:\n",
    "    headers = ['name', 'extension', 'path', 'dirs']\n",
    "    writer = csv.DictWriter(csv_file, fieldnames=headers)\n",
    "    writer.writeheader()\n",
    "    \n",
    "    #TODO: handle case when all files are in 'dataset_dir' directory (no other directories)\n",
    "    for category in os.listdir(dataset_dir):\n",
    "        print(f'Inserting data from: {category}')\n",
    "    \n",
    "        category_dir = os.path.join(dataset_dir, category)\n",
    "        for audio_file in os.listdir(category_dir):\n",
    "            file_name, file_extension = os.path.splitext(audio_file)\n",
    "            file_extension = file_extension.lstrip('.')\n",
    "            audio_file_path = os.path.join(category_dir, audio_file)\n",
    "            \n",
    "            #TODO: headers 'dirs'\n",
    "            writer.writerow({\n",
    "                headers[0]: file_name,\n",
    "                headers[1]: file_extension,\n",
    "                headers[2]: audio_file_path,\n",
    "                headers[3]: category\n",
    "            })\n",
    "\n",
    "print(f'CSV file {CSV_FILE_NAME} created successfully!')\n",
    "print(f'CSV file location: {csv_file_path}')"
   ]
  },
  {
   "cell_type": "code",
   "execution_count": null,
   "id": "0bc1a3b7",
   "metadata": {},
   "outputs": [],
   "source": []
  }
 ],
 "metadata": {
  "kernelspec": {
   "display_name": "Python 3 (ipykernel)",
   "language": "python",
   "name": "python3"
  },
  "language_info": {
   "codemirror_mode": {
    "name": "ipython",
    "version": 3
   },
   "file_extension": ".py",
   "mimetype": "text/x-python",
   "name": "python",
   "nbconvert_exporter": "python",
   "pygments_lexer": "ipython3",
   "version": "3.11.5"
  }
 },
 "nbformat": 4,
 "nbformat_minor": 5
}
