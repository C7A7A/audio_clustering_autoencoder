{
 "cells": [
  {
   "cell_type": "markdown",
   "id": "301193df",
   "metadata": {},
   "source": [
    "## Save metadata to csv file"
   ]
  },
  {
   "cell_type": "code",
   "execution_count": 1,
   "id": "b80f6ec2",
   "metadata": {},
   "outputs": [],
   "source": [
    "import os\n",
    "import csv"
   ]
  },
  {
   "cell_type": "code",
   "execution_count": 4,
   "id": "69b5005b",
   "metadata": {},
   "outputs": [
    {
     "name": "stdout",
     "output_type": "stream",
     "text": [
      "Inserting data from: alternative\n",
      "Inserting data from: blues\n",
      "Inserting data from: electronic\n",
      "Inserting data from: folkcountry\n",
      "Inserting data from: funksoulrnb\n",
      "Inserting data from: jazz\n",
      "Inserting data from: pop\n",
      "Inserting data from: raphiphop\n",
      "Inserting data from: rock\n",
      "CSV file music_metadata.csv created successfully!\n",
      "CSV file location: C:\\users\\user\\studia\\audio_clustering_autoencoder_versus_classic\\metadata\\music_metadata.csv\n"
     ]
    }
   ],
   "source": [
    "project_dir = os.path.abspath(os.path.join(os.getcwd(), os.pardir))\n",
    "datasets_dir = os.path.join(project_dir, \"datasets\")\n",
    "#TODO: argument for dataset folder name\n",
    "dataset_dir = os.path.join(datasets_dir, \"music_audio_benchmark\")\n",
    "\n",
    "if os.path.exists(dataset_dir) == False:\n",
    "    print(\"Provided dataset directory does not exist.\")\n",
    "\n",
    "#TODO: argument for csv file name\n",
    "csv_file_name = \"music_metadata.csv\"\n",
    "csv_file_path = os.path.join(project_dir, \"metadata\", csv_file_name)\n",
    "\n",
    "with open(csv_file_path, mode='w', newline='') as csv_file:\n",
    "    headers = ['name', 'extension', 'path']\n",
    "    writer = csv.DictWriter(csv_file, fieldnames=headers)\n",
    "    writer.writeheader()\n",
    "    \n",
    "    #TODO: handle case when all files are in 'dataset_dir' directory (no other directories)\n",
    "    for category in os.listdir(dataset_dir):\n",
    "        print(f'Inserting data from: {category}')\n",
    "    \n",
    "        category_dir = os.path.join(dataset_dir, category)\n",
    "        for audio_file in os.listdir(category_dir):\n",
    "            file_name, file_extension = os.path.splitext(audio_file)\n",
    "            file_extension = file_extension.lstrip('.')\n",
    "            audio_file_path = os.path.join(category_dir, audio_file)\n",
    "\n",
    "            writer.writerow({\n",
    "                headers[0]: file_name,\n",
    "                headers[1]: file_extension,\n",
    "                headers[2]: audio_file_path,\n",
    "            })\n",
    "\n",
    "print(f'CSV file {csv_file_name} created successfully!')\n",
    "print(f'CSV file location: {csv_file_path}')"
   ]
  },
  {
   "cell_type": "code",
   "execution_count": null,
   "id": "0bc1a3b7",
   "metadata": {},
   "outputs": [],
   "source": []
  },
  {
   "cell_type": "code",
   "execution_count": null,
   "id": "67fc853b",
   "metadata": {},
   "outputs": [],
   "source": []
  },
  {
   "cell_type": "code",
   "execution_count": null,
   "id": "0a4a2756",
   "metadata": {},
   "outputs": [],
   "source": []
  },
  {
   "cell_type": "code",
   "execution_count": null,
   "id": "2426c14d",
   "metadata": {},
   "outputs": [],
   "source": []
  }
 ],
 "metadata": {
  "kernelspec": {
   "display_name": "Python 3 (ipykernel)",
   "language": "python",
   "name": "python3"
  },
  "language_info": {
   "codemirror_mode": {
    "name": "ipython",
    "version": 3
   },
   "file_extension": ".py",
   "mimetype": "text/x-python",
   "name": "python",
   "nbconvert_exporter": "python",
   "pygments_lexer": "ipython3",
   "version": "3.11.0"
  }
 },
 "nbformat": 4,
 "nbformat_minor": 5
}
