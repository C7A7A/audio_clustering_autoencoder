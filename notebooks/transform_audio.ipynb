{
 "cells": [
  {
   "cell_type": "code",
   "execution_count": 132,
   "id": "b29c22cd",
   "metadata": {},
   "outputs": [],
   "source": [
    "import pandas as pd\n",
    "import os"
   ]
  },
  {
   "cell_type": "code",
   "execution_count": null,
   "id": "27e70916",
   "metadata": {},
   "outputs": [],
   "source": [
    "CSV_METADATA_FILE_NAME = \"music_metadata.csv\"\n",
    "DATASET_METADATA_DIR = \"music_audio_benchmark\"\n",
    "DATASET_DIR = f\"{DATASET_METADATA_DIR}_transformed\""
   ]
  },
  {
   "cell_type": "code",
   "execution_count": 133,
   "id": "7dc6ef69",
   "metadata": {},
   "outputs": [],
   "source": [
    "project_dir = os.path.relpath(os.path.join(os.getcwd(), os.pardir))\n",
    "\n",
    "csv_metadata_path = os.path.join(project_dir, \"metadata\", CSV_METADATA_FILE_NAME)"
   ]
  },
  {
   "cell_type": "code",
   "execution_count": 134,
   "id": "ae544e74",
   "metadata": {},
   "outputs": [
    {
     "data": {
      "text/html": [
       "<div>\n",
       "<style scoped>\n",
       "    .dataframe tbody tr th:only-of-type {\n",
       "        vertical-align: middle;\n",
       "    }\n",
       "\n",
       "    .dataframe tbody tr th {\n",
       "        vertical-align: top;\n",
       "    }\n",
       "\n",
       "    .dataframe thead th {\n",
       "        text-align: right;\n",
       "    }\n",
       "</style>\n",
       "<table border=\"1\" class=\"dataframe\">\n",
       "  <thead>\n",
       "    <tr style=\"text-align: right;\">\n",
       "      <th></th>\n",
       "      <th>name</th>\n",
       "      <th>extension</th>\n",
       "      <th>path</th>\n",
       "      <th>dirs</th>\n",
       "    </tr>\n",
       "  </thead>\n",
       "  <tbody>\n",
       "    <tr>\n",
       "      <th>0</th>\n",
       "      <td>50_Minutes-Colours</td>\n",
       "      <td>mp3</td>\n",
       "      <td>C:\\users\\user\\studia\\audio_clustering_autoenco...</td>\n",
       "      <td>alternative</td>\n",
       "    </tr>\n",
       "    <tr>\n",
       "      <th>1</th>\n",
       "      <td>50_Minutes-Nightwalk</td>\n",
       "      <td>mp3</td>\n",
       "      <td>C:\\users\\user\\studia\\audio_clustering_autoenco...</td>\n",
       "      <td>alternative</td>\n",
       "    </tr>\n",
       "    <tr>\n",
       "      <th>2</th>\n",
       "      <td>50_Minutes-The_Great_Wall</td>\n",
       "      <td>mp3</td>\n",
       "      <td>C:\\users\\user\\studia\\audio_clustering_autoenco...</td>\n",
       "      <td>alternative</td>\n",
       "    </tr>\n",
       "    <tr>\n",
       "      <th>3</th>\n",
       "      <td>Abigail_Lapell-Dress_Rehearsal</td>\n",
       "      <td>mp3</td>\n",
       "      <td>C:\\users\\user\\studia\\audio_clustering_autoenco...</td>\n",
       "      <td>alternative</td>\n",
       "    </tr>\n",
       "    <tr>\n",
       "      <th>4</th>\n",
       "      <td>Albino_Catfish-Ice_Cream</td>\n",
       "      <td>mp3</td>\n",
       "      <td>C:\\users\\user\\studia\\audio_clustering_autoenco...</td>\n",
       "      <td>alternative</td>\n",
       "    </tr>\n",
       "  </tbody>\n",
       "</table>\n",
       "</div>"
      ],
      "text/plain": [
       "                             name extension  \\\n",
       "0              50_Minutes-Colours       mp3   \n",
       "1            50_Minutes-Nightwalk       mp3   \n",
       "2       50_Minutes-The_Great_Wall       mp3   \n",
       "3  Abigail_Lapell-Dress_Rehearsal       mp3   \n",
       "4        Albino_Catfish-Ice_Cream       mp3   \n",
       "\n",
       "                                                path         dirs  \n",
       "0  C:\\users\\user\\studia\\audio_clustering_autoenco...  alternative  \n",
       "1  C:\\users\\user\\studia\\audio_clustering_autoenco...  alternative  \n",
       "2  C:\\users\\user\\studia\\audio_clustering_autoenco...  alternative  \n",
       "3  C:\\users\\user\\studia\\audio_clustering_autoenco...  alternative  \n",
       "4  C:\\users\\user\\studia\\audio_clustering_autoenco...  alternative  "
      ]
     },
     "execution_count": 134,
     "metadata": {},
     "output_type": "execute_result"
    }
   ],
   "source": [
    "df = pd.read_csv(csv_metadata_path)\n",
    "df.head()"
   ]
  },
  {
   "cell_type": "code",
   "execution_count": 135,
   "id": "d293a157",
   "metadata": {},
   "outputs": [],
   "source": [
    "import librosa\n",
    "from scipy import signal\n",
    "import soundfile as sf"
   ]
  },
  {
   "cell_type": "code",
   "execution_count": 136,
   "id": "8ebbf923",
   "metadata": {},
   "outputs": [],
   "source": [
    "metadata_dir = os.path.join(project_dir, \"metadata\")\n",
    "\n",
    "dataset_metadata_dir = os.path.join(metadata_dir, DATASET_METADATA_DIR)\n",
    "os.makedirs(dataset_dir, exist_ok=True)\n",
    "\n",
    "csv_file_name = \"metadata_transformed.csv\"\n",
    "csv_file_path = os.path.join(dataset_metadata_dir, csv_file_name)"
   ]
  },
  {
   "cell_type": "code",
   "execution_count": 137,
   "id": "b0df9077",
   "metadata": {},
   "outputs": [],
   "source": [
    "datasets_dir = os.path.join(project_dir, \"datasets\")\n",
    "\n",
    "#TODO: argument for dataset folder name\n",
    "dataset_dir = os.path.join(datasets_dir, DATASET_DIR)\n",
    "os.makedirs(dataset_dir, exist_ok=True)"
   ]
  },
  {
   "cell_type": "code",
   "execution_count": 138,
   "id": "0ee27e60",
   "metadata": {},
   "outputs": [],
   "source": [
    "def load_audio_from_path(path):\n",
    "    sample_rate = librosa.get_samplerate(path)\n",
    "    return librosa.load(path, sr=sample_rate)\n",
    "\n",
    "\n",
    "def get_output_file(parent_dirs, file_name):\n",
    "    if parent_dirs != '':\n",
    "        return f\"{dataset_dir}\\\\{parent_dirs}\\\\{file_name}.wav\"\n",
    "    \n",
    "    return f\"{dataset_dir}\\\\{file_name}\\\\{name}.wav\"\n",
    "\n",
    "\n",
    "# Filter audio file for given cutoff (for example to work in range 0kHz - 15kHz)\n",
    "def low_pass_filter(y, sr, cutoff):\n",
    "    # Cutoff frequency (15 kHz in this case)\n",
    "    cutoff_hz = cutoff\n",
    "\n",
    "    # Low-pass filter\n",
    "    nyquist = 0.5 * sr\n",
    "    normal_cutoff = cutoff_hz / nyquist\n",
    "    b, a = signal.butter(8, normal_cutoff, btype='low', analog=False)\n",
    "\n",
    "    # Apply the filter to the audio data\n",
    "    filtered_audio = signal.filtfilt(b, a, y)\n",
    "    return filtered_audio"
   ]
  },
  {
   "cell_type": "code",
   "execution_count": null,
   "id": "e11e356e",
   "metadata": {},
   "outputs": [
    {
     "name": "stderr",
     "output_type": "stream",
     "text": [
      "C:\\Users\\User\\AppData\\Local\\Temp\\ipykernel_14748\\1629940829.py:2: FutureWarning: PySoundFile failed. Trying audioread instead.\n",
      "\tAudioread support is deprecated in librosa 0.10.0 and will be removed in version 1.0.\n",
      "  sample_rate = librosa.get_samplerate(path)\n",
      "C:\\Users\\User\\AppData\\Local\\Temp\\ipykernel_14748\\1629940829.py:3: UserWarning: PySoundFile failed. Trying audioread instead.\n",
      "  return librosa.load(path, sr=sample_rate)\n",
      "C:\\Users\\User\\miniconda3\\envs\\audio\\Lib\\site-packages\\librosa\\core\\audio.py:183: FutureWarning: librosa.core.audio.__audioread_load\n",
      "\tDeprecated as of librosa version 0.10.0.\n",
      "\tIt will be removed in librosa version 1.0.\n",
      "  y, sr_native = __audioread_load(path, offset, duration, dtype)\n"
     ]
    },
    {
     "name": "stdout",
     "output_type": "stream",
     "text": [
      "Extracted features from 0 files\n",
      "Extracted features from 50 files\n",
      "Extracted features from 100 files\n",
      "Extracted features from 150 files\n",
      "Extracted features from 200 files\n",
      "Extracted features from 250 files\n",
      "Extracted features from 300 files\n",
      "Extracted features from 350 files\n",
      "Extracted features from 400 files\n",
      "Extracted features from 450 files\n",
      "Extracted features from 500 files\n",
      "Extracted features from 550 files\n",
      "Extracted features from 600 files\n",
      "Extracted features from 650 files\n",
      "Extracted features from 700 files\n",
      "Extracted features from 750 files\n",
      "Extracted features from 800 files\n",
      "Extracted features from 850 files\n",
      "Extracted features from 900 files\n",
      "Extracted features from 950 files\n",
      "Extracted features from 1000 files\n",
      "Extracted features from 1050 files\n",
      "Extracted features from 1100 files\n",
      "Extracted features from 1150 files\n",
      "Extracted features from 1200 files\n",
      "Extracted features from 1250 files\n",
      "Extracted features from 1300 files\n",
      "Extracted features from 1350 files\n",
      "Extracted features from 1400 files\n",
      "Extracted features from 1450 files\n",
      "Extracted features from 1500 files\n"
     ]
    }
   ],
   "source": [
    "df_copy = df.copy()\n",
    "df_copy['path'] = ''\n",
    "\n",
    "for index, row in df.iterrows():\n",
    "    name = row['name']\n",
    "    path = row['path']    \n",
    "    parent_dirs = row['dirs']\n",
    "    \n",
    "    y, sr = load_audio_from_path(path)\n",
    "    output_file = get_output_file(parent_dirs, name)\n",
    "    \n",
    "    #TODO: argument for cuttoff\n",
    "    cutoff = 15000\n",
    "    filtered_audio = low_pass_filter(y, sr, cutoff)\n",
    "    \n",
    "    try:\n",
    "        os.makedirs(os.path.dirname(output_file), exist_ok=True)\n",
    "    except Exception as e:\n",
    "        print(\"Error creating directory:\", e)\n",
    "        \n",
    "    sf.write(output_file, filtered_audio, sr, format='WAV')\n",
    "    \n",
    "    absolute_path = os.path.abspath(output_file)\n",
    "    df_copy.at[index, 'path'] = absolute_path\n",
    "    \n",
    "    if index % 50 == 0:\n",
    "        print(f\"Extracted features from {index} files\")\n",
    "        \n",
    "\n",
    "df_copy.to_csv(csv_file_path, index=False)"
   ]
  },
  {
   "cell_type": "code",
   "execution_count": null,
   "id": "b858f947",
   "metadata": {},
   "outputs": [],
   "source": []
  }
 ],
 "metadata": {
  "kernelspec": {
   "display_name": "Python 3 (ipykernel)",
   "language": "python",
   "name": "python3"
  },
  "language_info": {
   "codemirror_mode": {
    "name": "ipython",
    "version": 3
   },
   "file_extension": ".py",
   "mimetype": "text/x-python",
   "name": "python",
   "nbconvert_exporter": "python",
   "pygments_lexer": "ipython3",
   "version": "3.11.5"
  }
 },
 "nbformat": 4,
 "nbformat_minor": 5
}
